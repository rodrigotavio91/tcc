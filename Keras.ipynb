{
  "nbformat": 4,
  "nbformat_minor": 0,
  "metadata": {
    "colab": {
      "name": "Keras",
      "provenance": [],
      "collapsed_sections": []
    },
    "kernelspec": {
      "name": "python3",
      "display_name": "Python 3"
    },
    "language_info": {
      "name": "python"
    },
    "accelerator": "TPU"
  },
  "cells": [
    {
      "cell_type": "code",
      "metadata": {
        "id": "20FLW3go6Yor"
      },
      "source": [
        "import pandas as pd\n",
        "import numpy as np\n",
        "from zipfile import ZipFile\n",
        "import tensorflow as tf\n",
        "from tensorflow import keras\n",
        "from tensorflow.keras import layers\n",
        "from pathlib import Path\n",
        "import matplotlib.pyplot as plt\n",
        "from sklearn import metrics\n"
      ],
      "execution_count": 298,
      "outputs": []
    },
    {
      "cell_type": "code",
      "metadata": {
        "colab": {
          "base_uri": "https://localhost:8080/",
          "height": 206
        },
        "id": "AB_ryaRHBG2u",
        "outputId": "9531adf1-5660-4b68-878a-3f2e34e62490"
      },
      "source": [
        "# Download the actual data from http://files.grouplens.org/datasets/movielens/ml-latest-small.zip\"\n",
        "# Use the ratings.csv file\n",
        "movielens_data_file_url = (\n",
        "    \"http://files.grouplens.org/datasets/movielens/ml-1m.zip\"\n",
        ")\n",
        "movielens_zipped_file = keras.utils.get_file(\n",
        "    \"ml-1m.zip\", movielens_data_file_url, extract=False\n",
        ")\n",
        "keras_datasets_path = Path(movielens_zipped_file).parents[0]\n",
        "movielens_dir = keras_datasets_path / \"ml-1m\"\n",
        "\n",
        "# Only extract the data the first time the script is run.\n",
        "if not movielens_dir.exists():\n",
        "    with ZipFile(movielens_zipped_file, \"r\") as zip:\n",
        "        # Extract files\n",
        "        print(\"Extracting all the files now...\")\n",
        "        zip.extractall(path=keras_datasets_path)\n",
        "        print(\"Done!\")\n",
        "\n",
        "ratings_file = movielens_dir / \"ratings.dat\"\n",
        "\n",
        "df_base = pd.read_csv(ratings_file, sep='::', engine='python', names=['userId', 'movieId', 'rating', 'timestamp'])\n",
        "\n",
        "user_df = pd.read_csv(movielens_dir / \"users.dat\", sep='::', engine='python', names=['userId', 'gender', 'age', 'ocupation', 'zipCode'])\n",
        "\n",
        "user_df.head()\n"
      ],
      "execution_count": 299,
      "outputs": [
        {
          "output_type": "execute_result",
          "data": {
            "text/html": [
              "<div>\n",
              "<style scoped>\n",
              "    .dataframe tbody tr th:only-of-type {\n",
              "        vertical-align: middle;\n",
              "    }\n",
              "\n",
              "    .dataframe tbody tr th {\n",
              "        vertical-align: top;\n",
              "    }\n",
              "\n",
              "    .dataframe thead th {\n",
              "        text-align: right;\n",
              "    }\n",
              "</style>\n",
              "<table border=\"1\" class=\"dataframe\">\n",
              "  <thead>\n",
              "    <tr style=\"text-align: right;\">\n",
              "      <th></th>\n",
              "      <th>userId</th>\n",
              "      <th>gender</th>\n",
              "      <th>age</th>\n",
              "      <th>ocupation</th>\n",
              "      <th>zipCode</th>\n",
              "    </tr>\n",
              "  </thead>\n",
              "  <tbody>\n",
              "    <tr>\n",
              "      <th>0</th>\n",
              "      <td>1</td>\n",
              "      <td>F</td>\n",
              "      <td>1</td>\n",
              "      <td>10</td>\n",
              "      <td>48067</td>\n",
              "    </tr>\n",
              "    <tr>\n",
              "      <th>1</th>\n",
              "      <td>2</td>\n",
              "      <td>M</td>\n",
              "      <td>56</td>\n",
              "      <td>16</td>\n",
              "      <td>70072</td>\n",
              "    </tr>\n",
              "    <tr>\n",
              "      <th>2</th>\n",
              "      <td>3</td>\n",
              "      <td>M</td>\n",
              "      <td>25</td>\n",
              "      <td>15</td>\n",
              "      <td>55117</td>\n",
              "    </tr>\n",
              "    <tr>\n",
              "      <th>3</th>\n",
              "      <td>4</td>\n",
              "      <td>M</td>\n",
              "      <td>45</td>\n",
              "      <td>7</td>\n",
              "      <td>02460</td>\n",
              "    </tr>\n",
              "    <tr>\n",
              "      <th>4</th>\n",
              "      <td>5</td>\n",
              "      <td>M</td>\n",
              "      <td>25</td>\n",
              "      <td>20</td>\n",
              "      <td>55455</td>\n",
              "    </tr>\n",
              "  </tbody>\n",
              "</table>\n",
              "</div>"
            ],
            "text/plain": [
              "   userId gender  age  ocupation zipCode\n",
              "0       1      F    1         10   48067\n",
              "1       2      M   56         16   70072\n",
              "2       3      M   25         15   55117\n",
              "3       4      M   45          7   02460\n",
              "4       5      M   25         20   55455"
            ]
          },
          "metadata": {
            "tags": []
          },
          "execution_count": 299
        }
      ]
    },
    {
      "cell_type": "code",
      "metadata": {
        "colab": {
          "base_uri": "https://localhost:8080/"
        },
        "id": "1QY-T9evCXHs",
        "outputId": "1df33a75-5753-441c-9147-f4f0fa465d1e"
      },
      "source": [
        "# get movies that was rated at least 1000 times and user who rated at least 50 of these movies\n",
        "df = df_base.groupby('movieId').filter(lambda x: len(x) >= 500).groupby('userId').filter(lambda x: len(x) >= 50)\n",
        "# df = df_base\n",
        "df.shape"
      ],
      "execution_count": 300,
      "outputs": [
        {
          "output_type": "execute_result",
          "data": {
            "text/plain": [
              "(526643, 4)"
            ]
          },
          "metadata": {
            "tags": []
          },
          "execution_count": 300
        }
      ]
    },
    {
      "cell_type": "code",
      "metadata": {
        "colab": {
          "base_uri": "https://localhost:8080/"
        },
        "id": "ChgFKuS3XACH",
        "outputId": "5706c3a2-20ed-435f-8a93-387f7ed40f4e"
      },
      "source": [
        "user_ids = df[\"userId\"].unique().tolist()\n",
        "user2user_encoded = {x: i for i, x in enumerate(user_ids)}\n",
        "userencoded2user = {i: x for i, x in enumerate(user_ids)}\n",
        "def encode_gender(gender):\n",
        "  return 1 if gender == 'F' else 0\n",
        "\n",
        "userGender = {x[0]: encode_gender(x[1]) for x in user_df.values}\n",
        "userGender_encoded = {i: userGender[userencoded2user[i]] for i in userencoded2user}\n",
        "\n",
        "movie_ids = df[\"movieId\"].unique().tolist()\n",
        "movie2movie_encoded = {x: i for i, x in enumerate(movie_ids)}\n",
        "movie_encoded2movie = {i: x for i, x in enumerate(movie_ids)}\n",
        "df[\"user\"] = df[\"userId\"].map(user2user_encoded)\n",
        "df[\"movie\"] = df[\"movieId\"].map(movie2movie_encoded)\n",
        "df[\"gender\"] = df[\"userId\"].map(userGender)\n",
        "\n",
        "num_users = len(user2user_encoded)\n",
        "num_movies = len(movie_encoded2movie)\n",
        "df[\"rating\"] = df[\"rating\"].values.astype(np.float32)\n",
        "# min and max ratings will be used to normalize the ratings later\n",
        "min_rating = min(df[\"rating\"])\n",
        "max_rating = max(df[\"rating\"])\n",
        "\n",
        "print(\n",
        "    \"Number of users: {}, Number of Movies: {}, Min rating: {}, Max rating: {}\".format(\n",
        "        num_users, num_movies, min_rating, max_rating\n",
        "    )\n",
        ")"
      ],
      "execution_count": 301,
      "outputs": [
        {
          "output_type": "stream",
          "text": [
            "Number of users: 3571, Number of Movies: 618, Min rating: 1.0, Max rating: 5.0\n"
          ],
          "name": "stdout"
        }
      ]
    },
    {
      "cell_type": "code",
      "metadata": {
        "colab": {
          "base_uri": "https://localhost:8080/"
        },
        "id": "K9jTx_HqD2MK",
        "outputId": "5b8b173c-7585-4af8-fe6e-ad0a96ee8455"
      },
      "source": [
        "total = df.shape[0]\n",
        "women = df.loc[df['gender'] == 1].shape[0]\n",
        "men = df.loc[df['gender'] == 0].shape[0]\n",
        "\n",
        "print(women / total, men / total, total)"
      ],
      "execution_count": 302,
      "outputs": [
        {
          "output_type": "stream",
          "text": [
            "0.2255208936604113 0.7744791063395887 526643\n"
          ],
          "name": "stdout"
        }
      ]
    },
    {
      "cell_type": "code",
      "metadata": {
        "id": "LYvAJdAM6nd4",
        "colab": {
          "base_uri": "https://localhost:8080/"
        },
        "outputId": "b8309c03-11a4-46e3-ead9-3b8af68f2b09"
      },
      "source": [
        "df = df.sample(frac=1, random_state=42)\n",
        "x = df[[\"user\", \"movie\"]].values\n",
        "# Normalize the targets between 0 and 1. Makes it easy to train.\n",
        "# y = df[\"rating\"].apply(lambda x: (x - min_rating) / (max_rating - min_rating)).values\n",
        "y = df[[\"rating\", \"gender\", \"movie\", \"user\"]].values\n",
        "# y_ = df[[\"rating\", \"gender\", \"movie\"]]\n",
        "# y_[\"rating\"] = y_[\"rating\"].apply(lambda x: (x - min_rating) / (max_rating - min_rating))\n",
        "# y = y_.values\n",
        "\n",
        "# Assuming training on 90% of the data and validating on 10%.\n",
        "train_indices = int(0.8 * df.shape[0])\n",
        "x_train, x_val, y_train, y_val = (\n",
        "    x[:train_indices],\n",
        "    x[train_indices:],\n",
        "    y[:train_indices],\n",
        "    y[train_indices:],\n",
        ")\n",
        "\n",
        "y"
      ],
      "execution_count": 303,
      "outputs": [
        {
          "output_type": "execute_result",
          "data": {
            "text/plain": [
              "array([[4.000e+00, 0.000e+00, 4.330e+02, 2.148e+03],\n",
              "       [5.000e+00, 1.000e+00, 1.080e+02, 3.930e+02],\n",
              "       [5.000e+00, 0.000e+00, 3.980e+02, 3.294e+03],\n",
              "       ...,\n",
              "       [5.000e+00, 0.000e+00, 1.000e+01, 2.445e+03],\n",
              "       [5.000e+00, 0.000e+00, 5.160e+02, 8.940e+02],\n",
              "       [5.000e+00, 0.000e+00, 2.960e+02, 8.280e+02]])"
            ]
          },
          "metadata": {
            "tags": []
          },
          "execution_count": 303
        }
      ]
    },
    {
      "cell_type": "code",
      "metadata": {
        "id": "lr0IEhzWXXmg",
        "colab": {
          "base_uri": "https://localhost:8080/"
        },
        "outputId": "5774f59c-185e-4f6a-bf36-ba90191b3d70"
      },
      "source": [
        "EMBEDDING_SIZE = 20\n",
        "\n",
        "def custom_mean_squared_error(data, y_pred):    \n",
        "  y_true = tf.reshape(data[:, 0], (tf.shape(data)[0], 1))\n",
        "  return keras.losses.mean_squared_error(y_true, y_pred) + value_unfairness(data, y_pred)\n",
        "\n",
        "\n",
        "def ndcg(y_true, y_pred):  \n",
        "  y_true_matrix = np.zeros((num_users, num_movies))\n",
        "  y_pred_matrix = np.zeros((num_users, num_movies))\n",
        "\n",
        "  for r, g, i, u in y_true:    \n",
        "    y_true_matrix[int(u), int(i)] = r\n",
        "  \n",
        "  y_pred_np = np.concatenate((y_pred, y_true[:, 1:]), 1)\n",
        "  for r, g, i, u in y_pred_np:    \n",
        "    y_pred_matrix[int(u), int(i)] = r\n",
        "\n",
        "  return metrics.ndcg_score(y_true_matrix, y_pred_matrix, k=10)\n",
        "\n",
        "def value_unfairness(y_true, y_pred):\n",
        "  gender_mask = tf.cast(y_true[:, 1], tf.bool)\n",
        "  women_pred = tf.boolean_mask(y_pred, gender_mask)\n",
        "  men_pred = tf.boolean_mask(y_pred, tf.logical_not(gender_mask))\n",
        "  women_true = tf.boolean_mask(y_true[:, 0], gender_mask)\n",
        "  men_true = tf.boolean_mask(y_true[:, 0], tf.logical_not(gender_mask))\n",
        "\n",
        "  return keras.backend.pow(keras.backend.mean((women_pred - women_true) ** 2) - keras.backend.mean((men_pred - men_true)**2), 2)\n",
        "\n",
        "def value_unfairness_women(y_true, y_pred):\n",
        "  gender_mask = tf.cast(y_true[:, 1], tf.bool)\n",
        "  women_pred = tf.boolean_mask(y_pred, gender_mask)  \n",
        "  women_true = tf.boolean_mask(y_true[:, 0], gender_mask)  \n",
        "\n",
        "  return keras.backend.mean((women_pred - women_true) ** 2)\n",
        "\n",
        "def value_unfairness_men(y_true, y_pred):\n",
        "  gender_mask = tf.cast(y_true[:, 1], tf.bool) \n",
        "  men_pred = tf.boolean_mask(y_pred, tf.logical_not(gender_mask))  \n",
        "  men_true = tf.boolean_mask(y_true[:, 0], tf.logical_not(gender_mask))\n",
        "\n",
        "  return keras.backend.mean((men_pred - men_true) ** 2)\n",
        "\n",
        "def parity(y_true, y_pred):\n",
        "  gender_mask = tf.cast(y_true[:, 1], tf.bool)\n",
        "  women_pred = tf.boolean_mask(y_pred, gender_mask)\n",
        "  men_pred = tf.boolean_mask(y_pred, tf.logical_not(gender_mask))\n",
        "  error = keras.backend.mean(women_pred) - keras.backend.mean(men_pred)\n",
        "  return keras.backend.abs(error)\n",
        "\n",
        "def parity_women(y_true, y_pred):\n",
        "  gender_mask = tf.cast(y_true[:, 1], tf.bool)\n",
        "  women_pred = tf.boolean_mask(y_pred, gender_mask)  \n",
        "  return keras.backend.mean(women_pred)\n",
        "\n",
        "def parity_men(y_true, y_pred):\n",
        "  gender_mask = tf.cast(y_true[:, 1], tf.bool)\n",
        "  men_pred = tf.boolean_mask(y_pred, tf.logical_not(gender_mask))\n",
        "  return keras.backend.mean(men_pred)\n",
        "\n",
        "def parity_reg(y_true, y_pred):\n",
        "  gender_mask = tf.cast(y_true[:, 1], tf.bool)\n",
        "  women_pred = tf.boolean_mask(y_pred, gender_mask)\n",
        "  men_pred = tf.boolean_mask(y_pred, tf.logical_not(gender_mask))\n",
        "  error = keras.backend.mean(women_pred) - keras.backend.mean(men_pred)\n",
        "  abs = keras.backend.abs(error)\n",
        "\n",
        "  return tf.where(abs < 1.0, keras.backend.pow(error, 2), abs)  \n",
        "\n",
        "def root_mean_squared_error(data, y_pred):\n",
        "  y_true = tf.reshape(data[:, 0], (tf.shape(data)[0], 1))\n",
        "  return keras.backend.sqrt(keras.backend.mean(tf.math.squared_difference(y_true, y_pred)))\n",
        "\n",
        "class RecommenderNet(keras.Model):\n",
        "    def __init__(self, num_users, num_movies, embedding_size, **kwargs):\n",
        "        super(RecommenderNet, self).__init__(**kwargs)\n",
        "        self.num_users = num_users\n",
        "        self.num_movies = num_movies\n",
        "        self.embedding_size = embedding_size\n",
        "        self.user_embedding = layers.Embedding(\n",
        "            num_users,\n",
        "            embedding_size,\n",
        "            embeddings_initializer=\"he_normal\",\n",
        "            embeddings_regularizer=keras.regularizers.l2(1e-6),\n",
        "        )\n",
        "        self.user_bias = layers.Embedding(\n",
        "            num_users, \n",
        "            1,  \n",
        "            embeddings_regularizer=keras.regularizers.l2(1e-6)\n",
        "        )\n",
        "        self.movie_embedding = layers.Embedding(\n",
        "            num_movies,\n",
        "            embedding_size,\n",
        "            embeddings_initializer=\"he_normal\",\n",
        "            embeddings_regularizer=keras.regularizers.l2(1e-6)              \n",
        "        )\n",
        "        self.movie_bias = layers.Embedding(\n",
        "            num_movies, \n",
        "            1,\n",
        "            embeddings_regularizer=keras.regularizers.l2(1e-6) \n",
        "        )        \n",
        "\n",
        "    def call(self, inputs):        \n",
        "        user_vector = self.user_embedding(inputs[:, 0])\n",
        "        user_bias = self.user_bias(inputs[:, 0])\n",
        "        movie_vector = self.movie_embedding(inputs[:, 1])\n",
        "        movie_bias = self.movie_bias(inputs[:, 1])\n",
        "        dot_user_movie = tf.tensordot(user_vector, movie_vector, 2)\n",
        "        # Add all the components (including bias)\n",
        "        x = dot_user_movie + user_bias + movie_bias\n",
        "        # The sigmoid activation forces the rating to between 0 and 1\n",
        "        # return tf.nn.sigmoid(x)              \n",
        "        return x\n",
        "\n",
        "\n",
        "model = keras.Sequential()\n",
        "model.add(RecommenderNet(num_users, num_movies, EMBEDDING_SIZE, name=\"RecommenderNet\"))\n",
        "\n",
        "\n",
        "model.compile(\n",
        "    loss=custom_mean_squared_error, \n",
        "    optimizer=keras.optimizers.Adam(lr=0.0002),\n",
        "    metrics=[root_mean_squared_error, parity, value_unfairness, parity_women, parity_men, value_unfairness_women, value_unfairness_men]    \n",
        ")\n",
        "\n",
        "x_train.shape[0]"
      ],
      "execution_count": 314,
      "outputs": [
        {
          "output_type": "execute_result",
          "data": {
            "text/plain": [
              "421314"
            ]
          },
          "metadata": {
            "tags": []
          },
          "execution_count": 314
        }
      ]
    },
    {
      "cell_type": "code",
      "metadata": {
        "colab": {
          "base_uri": "https://localhost:8080/"
        },
        "id": "KcdR_rdlXbeV",
        "outputId": "107abdee-3447-412e-8f72-154300fb2f5a"
      },
      "source": [
        "history = model.fit(\n",
        "    x=x_train,\n",
        "    y=y_train,\n",
        "    batch_size=128,\n",
        "    epochs=20,\n",
        "    verbose=1,\n",
        "    validation_data=(x_val, y_val),\n",
        ")\n"
      ],
      "execution_count": 315,
      "outputs": [
        {
          "output_type": "stream",
          "text": [
            "Epoch 1/20\n",
            "3292/3292 [==============================] - 12s 3ms/step - loss: 15.5387 - root_mean_squared_error: 3.6096 - parity: 0.0072 - value_unfairness: 2.0973 - parity_women: 0.3193 - parity_men: 0.3200 - value_unfairness_women: 13.5519 - value_unfairness_men: 13.4189 - val_loss: 1.2053 - val_root_mean_squared_error: 1.0471 - val_parity: 0.0085 - val_value_unfairness: 0.1046 - val_parity_women: 3.6727 - val_parity_men: 3.6757 - val_value_unfairness_women: 1.1423 - val_value_unfairness_men: 1.1121\n",
            "Epoch 2/20\n",
            "3292/3292 [==============================] - 9s 3ms/step - loss: 1.2027 - root_mean_squared_error: 1.0426 - parity: 0.0083 - value_unfairness: 0.1114 - parity_women: 3.7091 - parity_men: 3.7117 - value_unfairness_women: 1.1399 - value_unfairness_men: 1.1065 - val_loss: 1.1907 - val_root_mean_squared_error: 1.0445 - val_parity: 0.0112 - val_value_unfairness: 0.0956 - val_parity_women: 3.5659 - val_parity_men: 3.5710 - val_value_unfairness_women: 1.1681 - val_value_unfairness_men: 1.1372\n",
            "Epoch 3/20\n",
            "3292/3292 [==============================] - 9s 3ms/step - loss: 1.1537 - root_mean_squared_error: 1.0207 - parity: 0.0137 - value_unfairness: 0.1076 - parity_women: 3.6914 - parity_men: 3.6973 - value_unfairness_women: 1.1437 - value_unfairness_men: 1.1040 - val_loss: 1.1228 - val_root_mean_squared_error: 1.0119 - val_parity: 0.0230 - val_value_unfairness: 0.0949 - val_parity_women: 3.5576 - val_parity_men: 3.5714 - val_value_unfairness_women: 1.1761 - val_value_unfairness_men: 1.1469\n",
            "Epoch 4/20\n",
            "3292/3292 [==============================] - 8s 3ms/step - loss: 1.0764 - root_mean_squared_error: 0.9860 - parity: 0.0267 - value_unfairness: 0.1003 - parity_women: 3.6943 - parity_men: 3.7087 - value_unfairness_women: 1.1421 - value_unfairness_men: 1.1192 - val_loss: 1.0579 - val_root_mean_squared_error: 0.9785 - val_parity: 0.0379 - val_value_unfairness: 0.0965 - val_parity_women: 3.5718 - val_parity_men: 3.5967 - val_value_unfairness_women: 1.1875 - val_value_unfairness_men: 1.1627\n",
            "Epoch 5/20\n",
            "3292/3292 [==============================] - 9s 3ms/step - loss: 1.0248 - root_mean_squared_error: 0.9586 - parity: 0.0407 - value_unfairness: 0.1021 - parity_women: 3.6823 - parity_men: 3.7078 - value_unfairness_women: 1.1739 - value_unfairness_men: 1.1437 - val_loss: 1.0101 - val_root_mean_squared_error: 0.9516 - val_parity: 0.0500 - val_value_unfairness: 0.1008 - val_parity_women: 3.6167 - val_parity_men: 3.6508 - val_value_unfairness_women: 1.1962 - val_value_unfairness_men: 1.1781\n",
            "Epoch 6/20\n",
            "3292/3292 [==============================] - 9s 3ms/step - loss: 0.9961 - root_mean_squared_error: 0.9412 - parity: 0.0533 - value_unfairness: 0.1064 - parity_women: 3.6783 - parity_men: 3.7119 - value_unfairness_women: 1.1956 - value_unfairness_men: 1.1781 - val_loss: 0.9847 - val_root_mean_squared_error: 0.9376 - val_parity: 0.0592 - val_value_unfairness: 0.1017 - val_parity_women: 3.6185 - val_parity_men: 3.6592 - val_value_unfairness_women: 1.2151 - val_value_unfairness_men: 1.2056\n",
            "Epoch 7/20\n",
            "3292/3292 [==============================] - 9s 3ms/step - loss: 0.9646 - root_mean_squared_error: 0.9253 - parity: 0.0605 - value_unfairness: 0.1046 - parity_women: 3.6840 - parity_men: 3.7245 - value_unfairness_women: 1.2126 - value_unfairness_men: 1.1923 - val_loss: 0.9705 - val_root_mean_squared_error: 0.9309 - val_parity: 0.0673 - val_value_unfairness: 0.1001 - val_parity_women: 3.5897 - val_parity_men: 3.6377 - val_value_unfairness_women: 1.2394 - val_value_unfairness_men: 1.2344\n",
            "Epoch 8/20\n",
            "3292/3292 [==============================] - 9s 3ms/step - loss: 0.9509 - root_mean_squared_error: 0.9199 - parity: 0.0678 - value_unfairness: 0.1007 - parity_women: 3.6737 - parity_men: 3.7191 - value_unfairness_women: 1.2295 - value_unfairness_men: 1.2288 - val_loss: 0.9558 - val_root_mean_squared_error: 0.9211 - val_parity: 0.0737 - val_value_unfairness: 0.1035 - val_parity_women: 3.6126 - val_parity_men: 3.6666 - val_value_unfairness_women: 1.2462 - val_value_unfairness_men: 1.2489\n",
            "Epoch 9/20\n",
            "3292/3292 [==============================] - 9s 3ms/step - loss: 0.9479 - root_mean_squared_error: 0.9141 - parity: 0.0760 - value_unfairness: 0.1084 - parity_women: 3.6637 - parity_men: 3.7181 - value_unfairness_women: 1.2478 - value_unfairness_men: 1.2456 - val_loss: 0.9572 - val_root_mean_squared_error: 0.9236 - val_parity: 0.0814 - val_value_unfairness: 0.1003 - val_parity_women: 3.5520 - val_parity_men: 3.6151 - val_value_unfairness_women: 1.2798 - val_value_unfairness_men: 1.2773\n",
            "Epoch 10/20\n",
            "3292/3292 [==============================] - 9s 3ms/step - loss: 0.9341 - root_mean_squared_error: 0.9071 - parity: 0.0816 - value_unfairness: 0.1073 - parity_women: 3.6555 - parity_men: 3.7170 - value_unfairness_women: 1.2556 - value_unfairness_men: 1.2609 - val_loss: 0.9468 - val_root_mean_squared_error: 0.9159 - val_parity: 0.0867 - val_value_unfairness: 0.1040 - val_parity_women: 3.5813 - val_parity_men: 3.6503 - val_value_unfairness_women: 1.2797 - val_value_unfairness_men: 1.2846\n",
            "Epoch 11/20\n",
            "3292/3292 [==============================] - 9s 3ms/step - loss: 0.9269 - root_mean_squared_error: 0.9037 - parity: 0.0876 - value_unfairness: 0.1063 - parity_women: 3.6609 - parity_men: 3.7266 - value_unfairness_women: 1.2658 - value_unfairness_men: 1.2744 - val_loss: 0.9405 - val_root_mean_squared_error: 0.9111 - val_parity: 0.0898 - val_value_unfairness: 0.1064 - val_parity_women: 3.5984 - val_parity_men: 3.6705 - val_value_unfairness_women: 1.2813 - val_value_unfairness_men: 1.2926\n",
            "Epoch 12/20\n",
            "3292/3292 [==============================] - 9s 3ms/step - loss: 0.9317 - root_mean_squared_error: 0.9036 - parity: 0.0911 - value_unfairness: 0.1114 - parity_women: 3.6532 - parity_men: 3.7249 - value_unfairness_women: 1.2796 - value_unfairness_men: 1.2868 - val_loss: 0.9372 - val_root_mean_squared_error: 0.9088 - val_parity: 0.0944 - val_value_unfairness: 0.1071 - val_parity_women: 3.5993 - val_parity_men: 3.6766 - val_value_unfairness_women: 1.2914 - val_value_unfairness_men: 1.3013\n",
            "Epoch 13/20\n",
            "3292/3292 [==============================] - 9s 3ms/step - loss: 0.9231 - root_mean_squared_error: 0.8997 - parity: 0.0950 - value_unfairness: 0.1095 - parity_women: 3.6587 - parity_men: 3.7331 - value_unfairness_women: 1.2848 - value_unfairness_men: 1.2957 - val_loss: 0.9350 - val_root_mean_squared_error: 0.9070 - val_parity: 0.0982 - val_value_unfairness: 0.1082 - val_parity_women: 3.5978 - val_parity_men: 3.6795 - val_value_unfairness_women: 1.2989 - val_value_unfairness_men: 1.3090\n",
            "Epoch 14/20\n",
            "3292/3292 [==============================] - 10s 3ms/step - loss: 0.9173 - root_mean_squared_error: 0.8971 - parity: 0.0954 - value_unfairness: 0.1082 - parity_women: 3.6610 - parity_men: 3.7347 - value_unfairness_women: 1.2857 - value_unfairness_men: 1.3017 - val_loss: 0.9328 - val_root_mean_squared_error: 0.9040 - val_parity: 0.1004 - val_value_unfairness: 0.1115 - val_parity_women: 3.6223 - val_parity_men: 3.7061 - val_value_unfairness_women: 1.2994 - val_value_unfairness_men: 1.3135\n",
            "Epoch 15/20\n",
            "3292/3292 [==============================] - 10s 3ms/step - loss: 0.9200 - root_mean_squared_error: 0.8976 - parity: 0.1021 - value_unfairness: 0.1100 - parity_women: 3.6457 - parity_men: 3.7298 - value_unfairness_women: 1.2965 - value_unfairness_men: 1.3119 - val_loss: 0.9367 - val_root_mean_squared_error: 0.9083 - val_parity: 0.1033 - val_value_unfairness: 0.1077 - val_parity_women: 3.5700 - val_parity_men: 3.6571 - val_value_unfairness_women: 1.3215 - val_value_unfairness_men: 1.3265\n",
            "Epoch 16/20\n",
            "3292/3292 [==============================] - 10s 3ms/step - loss: 0.9186 - root_mean_squared_error: 0.8960 - parity: 0.1018 - value_unfairness: 0.1116 - parity_women: 3.6441 - parity_men: 3.7272 - value_unfairness_women: 1.2995 - value_unfairness_men: 1.3163 - val_loss: 0.9319 - val_root_mean_squared_error: 0.9040 - val_parity: 0.1065 - val_value_unfairness: 0.1106 - val_parity_women: 3.5998 - val_parity_men: 3.6909 - val_value_unfairness_women: 1.3159 - val_value_unfairness_men: 1.3257\n",
            "Epoch 17/20\n",
            "3292/3292 [==============================] - 10s 3ms/step - loss: 0.9124 - root_mean_squared_error: 0.8953 - parity: 0.1074 - value_unfairness: 0.1070 - parity_women: 3.6426 - parity_men: 3.7329 - value_unfairness_women: 1.3068 - value_unfairness_men: 1.3172 - val_loss: 0.9342 - val_root_mean_squared_error: 0.9059 - val_parity: 0.1101 - val_value_unfairness: 0.1095 - val_parity_women: 3.5740 - val_parity_men: 3.6696 - val_value_unfairness_women: 1.3297 - val_value_unfairness_men: 1.3332\n",
            "Epoch 18/20\n",
            "3292/3292 [==============================] - 9s 3ms/step - loss: 0.9171 - root_mean_squared_error: 0.8946 - parity: 0.1096 - value_unfairness: 0.1128 - parity_women: 3.6360 - parity_men: 3.7309 - value_unfairness_women: 1.3105 - value_unfairness_men: 1.3210 - val_loss: 0.9318 - val_root_mean_squared_error: 0.9041 - val_parity: 0.1122 - val_value_unfairness: 0.1102 - val_parity_women: 3.5817 - val_parity_men: 3.6795 - val_value_unfairness_women: 1.3299 - val_value_unfairness_men: 1.3356\n",
            "Epoch 19/20\n",
            "3292/3292 [==============================] - 9s 3ms/step - loss: 0.9120 - root_mean_squared_error: 0.8927 - parity: 0.1126 - value_unfairness: 0.1109 - parity_women: 3.6329 - parity_men: 3.7303 - value_unfairness_women: 1.3079 - value_unfairness_men: 1.3277 - val_loss: 0.9320 - val_root_mean_squared_error: 0.9053 - val_parity: 0.1154 - val_value_unfairness: 0.1082 - val_parity_women: 3.5598 - val_parity_men: 3.6616 - val_value_unfairness_women: 1.3395 - val_value_unfairness_men: 1.3411\n",
            "Epoch 20/20\n",
            "3292/3292 [==============================] - 9s 3ms/step - loss: 0.9135 - root_mean_squared_error: 0.8952 - parity: 0.1143 - value_unfairness: 0.1082 - parity_women: 3.6313 - parity_men: 3.7288 - value_unfairness_women: 1.3264 - value_unfairness_men: 1.3330 - val_loss: 0.9278 - val_root_mean_squared_error: 0.9008 - val_parity: 0.1182 - val_value_unfairness: 0.1121 - val_parity_women: 3.5968 - val_parity_men: 3.7017 - val_value_unfairness_women: 1.3299 - val_value_unfairness_men: 1.3381\n"
          ],
          "name": "stdout"
        }
      ]
    },
    {
      "cell_type": "code",
      "metadata": {
        "colab": {
          "base_uri": "https://localhost:8080/"
        },
        "id": "IO63V0b8ZoXh",
        "outputId": "a393f6c0-0d49-4a9e-ddc1-51bee559ffca"
      },
      "source": [
        "y_pred = model.predict(x_val, batch_size=128)\n",
        "print(ndcg(y_val, y_pred))"
      ],
      "execution_count": 316,
      "outputs": [
        {
          "output_type": "stream",
          "text": [
            "0.8993038320883711\n"
          ],
          "name": "stdout"
        }
      ]
    },
    {
      "cell_type": "code",
      "metadata": {
        "id": "ososOH5sEbC9"
      },
      "source": [
        "antidote_data = []\n",
        "budget = int(0.01 * num_users)\n",
        "mean_rating = np.mean(y_train[:, 0])\n",
        "\n",
        "for u in range(num_users, num_users + budget):\n",
        "  for i in range(0, num_movies):\n",
        "    antidote_data.append([u, i, mean_rating, 0, 0])\n",
        "\n",
        "df_antidote = pd.DataFrame(antidote_data)\n",
        "df_antidote = df_antidote.sample(frac=1, random_state=42)\n",
        "\n",
        "x_antidote = df_antidote[[0, 1]].values\n",
        "y_antidote = df_antidote[[2, 3, 4]].values\n"
      ],
      "execution_count": 127,
      "outputs": []
    },
    {
      "cell_type": "code",
      "metadata": {
        "colab": {
          "base_uri": "https://localhost:8080/",
          "height": 1000
        },
        "id": "dJNC0QVBzqMf",
        "outputId": "1755a607-ecb6-4625-fc2f-44789a882b3e"
      },
      "source": [
        "optimizer = tf.keras.optimizers.Adam(lr=0.01)\n",
        "\n",
        "for i in range(0, 5):\n",
        "\n",
        "  model = keras.Sequential()\n",
        "  model.add(RecommenderNet(num_users + budget, num_movies, EMBEDDING_SIZE, name=\"RecommenderNet\"))\n",
        "\n",
        "\n",
        "  model.compile(\n",
        "      loss=custom_mean_squared_error, \n",
        "      optimizer=keras.optimizers.Adam(lr=0.0002),\n",
        "      metrics=[root_mean_squared_error, parity, value_unfairness]\n",
        "  )\n",
        "\n",
        "  model.fit(\n",
        "    x=tf.concat([x_train, x_antidote], 0),\n",
        "    y=tf.concat([y_train, y_antidote], 0),\n",
        "    batch_size=128,\n",
        "    epochs=5,\n",
        "    verbose=1,\n",
        "    validation_data=(x_val, y_val),\n",
        "  )\n",
        "\n",
        "  y_true = tf.convert_to_tensor(y_train, dtype=tf.float32)\n",
        "\n",
        "  print(y_antidote)\n",
        "  with tf.GradientTape() as tape:\n",
        "\n",
        "        y_antidote_tensor = tf.convert_to_tensor(y_antidote, dtype=tf.float32)\n",
        "        tensor_y_antidote = tf.Variable(tf.reshape(y_antidote_tensor[:, 0], (tf.shape(y_antidote_tensor)[0], 1)))\n",
        "\n",
        "        # Forward pass.        \n",
        "        y_pred = tf.Variable(model.predict(x_train, batch_size=128))                    \n",
        "        \n",
        "        # Loss value for this batch.        \n",
        "        loss_value = parity(x_train, y_pred)\n",
        "\n",
        "  # Get gradients of loss wrt the weights.\n",
        "  gradients = tape.gradient(loss_value, y_pred)\n",
        "\n",
        "\n",
        "\n",
        "  # Update the weights of the model.\n",
        "  optimizer.apply_gradients(zip([gradients[-tensor_y_antidote.shape[0]:]], [tensor_y_antidote]))\n",
        "\n",
        "  y_antidote = np.concatenate((tensor_y_antidote.numpy(), y_antidote[:, 1:]), axis=1)\n"
      ],
      "execution_count": 128,
      "outputs": [
        {
          "output_type": "stream",
          "text": [
            "Epoch 1/5\n",
            "7989/7989 [==============================] - 27s 3ms/step - loss: 7.9785 - root_mean_squared_error: 2.5529 - parity: 0.0249 - value_unfairness: 0.2050 - val_loss: 1.2897 - val_root_mean_squared_error: 1.1335 - val_parity: 0.0221 - val_value_unfairness: 0.1852\n",
            "Epoch 2/5\n",
            "7989/7989 [==============================] - 25s 3ms/step - loss: 0.8613 - root_mean_squared_error: 0.9256 - parity: 0.0310 - value_unfairness: 0.1906 - val_loss: 1.0185 - val_root_mean_squared_error: 1.0073 - val_parity: 0.0464 - val_value_unfairness: 0.1738\n",
            "Epoch 3/5\n",
            "7989/7989 [==============================] - 25s 3ms/step - loss: 0.7764 - root_mean_squared_error: 0.8786 - parity: 0.0546 - value_unfairness: 0.1713 - val_loss: 0.9436 - val_root_mean_squared_error: 0.9693 - val_parity: 0.0636 - val_value_unfairness: 0.1675\n",
            "Epoch 4/5\n",
            "7989/7989 [==============================] - 26s 3ms/step - loss: 0.7388 - root_mean_squared_error: 0.8569 - parity: 0.0706 - value_unfairness: 0.1742 - val_loss: 0.9109 - val_root_mean_squared_error: 0.9522 - val_parity: 0.0751 - val_value_unfairness: 0.1639\n",
            "Epoch 5/5\n",
            "7989/7989 [==============================] - 27s 3ms/step - loss: 0.7144 - root_mean_squared_error: 0.8425 - parity: 0.0822 - value_unfairness: 0.1700 - val_loss: 0.8927 - val_root_mean_squared_error: 0.9425 - val_parity: 0.0829 - val_value_unfairness: 0.1618\n",
            "[[3.58148986 0.         0.        ]\n",
            " [3.58148986 0.         0.        ]\n",
            " [3.58148986 0.         0.        ]\n",
            " ...\n",
            " [3.58148986 0.         0.        ]\n",
            " [3.58148986 0.         0.        ]\n",
            " [3.58148986 0.         0.        ]]\n",
            "Epoch 1/5\n",
            "7989/7989 [==============================] - 33s 4ms/step - loss: 8.1523 - root_mean_squared_error: 2.5844 - parity: 0.0247 - value_unfairness: 0.2018 - val_loss: 1.4043 - val_root_mean_squared_error: 1.1825 - val_parity: 0.0223 - val_value_unfairness: 0.1852\n",
            "Epoch 2/5\n",
            "7989/7989 [==============================] - 26s 3ms/step - loss: 0.8624 - root_mean_squared_error: 0.9260 - parity: 0.0303 - value_unfairness: 0.1856 - val_loss: 1.0228 - val_root_mean_squared_error: 1.0094 - val_parity: 0.0468 - val_value_unfairness: 0.1739\n",
            "Epoch 3/5\n",
            "7989/7989 [==============================] - 27s 3ms/step - loss: 0.7799 - root_mean_squared_error: 0.8806 - parity: 0.0543 - value_unfairness: 0.1780 - val_loss: 0.9439 - val_root_mean_squared_error: 0.9694 - val_parity: 0.0639 - val_value_unfairness: 0.1675\n",
            "Epoch 4/5\n",
            "7989/7989 [==============================] - 25s 3ms/step - loss: 0.7356 - root_mean_squared_error: 0.8550 - parity: 0.0710 - value_unfairness: 0.1729 - val_loss: 0.9101 - val_root_mean_squared_error: 0.9517 - val_parity: 0.0754 - val_value_unfairness: 0.1640\n",
            "Epoch 5/5\n",
            "7989/7989 [==============================] - 25s 3ms/step - loss: 0.7172 - root_mean_squared_error: 0.8442 - parity: 0.0811 - value_unfairness: 0.1700 - val_loss: 0.8918 - val_root_mean_squared_error: 0.9420 - val_parity: 0.0831 - val_value_unfairness: 0.1619\n",
            "[[3.58425999 0.         0.        ]\n",
            " [3.58425999 0.         0.        ]\n",
            " [3.58425999 0.         0.        ]\n",
            " ...\n",
            " [3.58425999 0.         0.        ]\n",
            " [3.58425999 0.         0.        ]\n",
            " [3.58425999 0.         0.        ]]\n",
            "Epoch 1/5\n",
            "7989/7989 [==============================] - 28s 3ms/step - loss: 8.1684 - root_mean_squared_error: 2.5891 - parity: 0.0229 - value_unfairness: 0.2054 - val_loss: 1.3589 - val_root_mean_squared_error: 1.1634 - val_parity: 0.0222 - val_value_unfairness: 0.1849\n",
            "Epoch 2/5\n",
            "7989/7989 [==============================] - 26s 3ms/step - loss: 0.8647 - root_mean_squared_error: 0.9273 - parity: 0.0308 - value_unfairness: 0.1849 - val_loss: 1.0278 - val_root_mean_squared_error: 1.0118 - val_parity: 0.0469 - val_value_unfairness: 0.1737\n",
            "Epoch 3/5\n",
            "7989/7989 [==============================] - 26s 3ms/step - loss: 0.7769 - root_mean_squared_error: 0.8789 - parity: 0.0540 - value_unfairness: 0.1729 - val_loss: 0.9443 - val_root_mean_squared_error: 0.9697 - val_parity: 0.0640 - val_value_unfairness: 0.1674\n",
            "Epoch 4/5\n",
            "7989/7989 [==============================] - 26s 3ms/step - loss: 0.7390 - root_mean_squared_error: 0.8570 - parity: 0.0715 - value_unfairness: 0.1728 - val_loss: 0.9096 - val_root_mean_squared_error: 0.9515 - val_parity: 0.0754 - val_value_unfairness: 0.1639\n",
            "Epoch 5/5\n",
            "7989/7989 [==============================] - 27s 3ms/step - loss: 0.7165 - root_mean_squared_error: 0.8438 - parity: 0.0807 - value_unfairness: 0.1724 - val_loss: 0.8912 - val_root_mean_squared_error: 0.9417 - val_parity: 0.0830 - val_value_unfairness: 0.1618\n",
            "[[3.58632135 0.         0.        ]\n",
            " [3.58632135 0.         0.        ]\n",
            " [3.58632135 0.         0.        ]\n",
            " ...\n",
            " [3.58632135 0.         0.        ]\n",
            " [3.58632135 0.         0.        ]\n",
            " [3.58632135 0.         0.        ]]\n",
            "Epoch 1/5\n",
            "7989/7989 [==============================] - 28s 3ms/step - loss: 7.8447 - root_mean_squared_error: 2.5194 - parity: 0.0240 - value_unfairness: 0.2048 - val_loss: 1.3416 - val_root_mean_squared_error: 1.1560 - val_parity: 0.0220 - val_value_unfairness: 0.1850\n",
            "Epoch 2/5\n",
            "7989/7989 [==============================] - 26s 3ms/step - loss: 0.8614 - root_mean_squared_error: 0.9256 - parity: 0.0309 - value_unfairness: 0.1854 - val_loss: 1.0152 - val_root_mean_squared_error: 1.0056 - val_parity: 0.0466 - val_value_unfairness: 0.1738\n",
            "Epoch 3/5\n",
            "7989/7989 [==============================] - 27s 3ms/step - loss: 0.7758 - root_mean_squared_error: 0.8783 - parity: 0.0540 - value_unfairness: 0.1801 - val_loss: 0.9422 - val_root_mean_squared_error: 0.9685 - val_parity: 0.0638 - val_value_unfairness: 0.1675\n",
            "Epoch 4/5\n",
            "7989/7989 [==============================] - 27s 3ms/step - loss: 0.7378 - root_mean_squared_error: 0.8563 - parity: 0.0733 - value_unfairness: 0.1729 - val_loss: 0.9106 - val_root_mean_squared_error: 0.9521 - val_parity: 0.0752 - val_value_unfairness: 0.1640\n",
            "Epoch 5/5\n",
            "7989/7989 [==============================] - 27s 3ms/step - loss: 0.7153 - root_mean_squared_error: 0.8431 - parity: 0.0823 - value_unfairness: 0.1718 - val_loss: 0.8916 - val_root_mean_squared_error: 0.9419 - val_parity: 0.0830 - val_value_unfairness: 0.1619\n",
            "[[3.5880909 0.        0.       ]\n",
            " [3.5880909 0.        0.       ]\n",
            " [3.5880909 0.        0.       ]\n",
            " ...\n",
            " [3.5880909 0.        0.       ]\n",
            " [3.5880909 0.        0.       ]\n",
            " [3.5880909 0.        0.       ]]\n",
            "Epoch 1/5\n",
            "7989/7989 [==============================] - 28s 3ms/step - loss: 8.2052 - root_mean_squared_error: 2.5951 - parity: 0.0246 - value_unfairness: 0.2008 - val_loss: 1.3575 - val_root_mean_squared_error: 1.1628 - val_parity: 0.0218 - val_value_unfairness: 0.1855\n",
            "Epoch 2/5\n",
            "7989/7989 [==============================] - 26s 3ms/step - loss: 0.8661 - root_mean_squared_error: 0.9281 - parity: 0.0303 - value_unfairness: 0.1860 - val_loss: 1.0125 - val_root_mean_squared_error: 1.0043 - val_parity: 0.0463 - val_value_unfairness: 0.1741\n",
            "Epoch 3/5\n",
            "5216/7989 [==================>...........] - ETA: 8s - loss: 0.7868 - root_mean_squared_error: 0.8845 - parity: 0.0523 - value_unfairness: 0.1768"
          ],
          "name": "stdout"
        },
        {
          "output_type": "error",
          "ename": "KeyboardInterrupt",
          "evalue": "ignored",
          "traceback": [
            "\u001b[0;31m---------------------------------------------------------------------------\u001b[0m",
            "\u001b[0;31mKeyboardInterrupt\u001b[0m                         Traceback (most recent call last)",
            "\u001b[0;32m<ipython-input-128-19a3ca89c37b>\u001b[0m in \u001b[0;36m<module>\u001b[0;34m()\u001b[0m\n\u001b[1;32m     19\u001b[0m     \u001b[0mepochs\u001b[0m\u001b[0;34m=\u001b[0m\u001b[0;36m5\u001b[0m\u001b[0;34m,\u001b[0m\u001b[0;34m\u001b[0m\u001b[0;34m\u001b[0m\u001b[0m\n\u001b[1;32m     20\u001b[0m     \u001b[0mverbose\u001b[0m\u001b[0;34m=\u001b[0m\u001b[0;36m1\u001b[0m\u001b[0;34m,\u001b[0m\u001b[0;34m\u001b[0m\u001b[0;34m\u001b[0m\u001b[0m\n\u001b[0;32m---> 21\u001b[0;31m     \u001b[0mvalidation_data\u001b[0m\u001b[0;34m=\u001b[0m\u001b[0;34m(\u001b[0m\u001b[0mx_val\u001b[0m\u001b[0;34m,\u001b[0m \u001b[0my_val\u001b[0m\u001b[0;34m)\u001b[0m\u001b[0;34m,\u001b[0m\u001b[0;34m\u001b[0m\u001b[0;34m\u001b[0m\u001b[0m\n\u001b[0m\u001b[1;32m     22\u001b[0m   )\n\u001b[1;32m     23\u001b[0m \u001b[0;34m\u001b[0m\u001b[0m\n",
            "\u001b[0;32m/usr/local/lib/python3.7/dist-packages/tensorflow/python/keras/engine/training.py\u001b[0m in \u001b[0;36mfit\u001b[0;34m(self, x, y, batch_size, epochs, verbose, callbacks, validation_split, validation_data, shuffle, class_weight, sample_weight, initial_epoch, steps_per_epoch, validation_steps, validation_batch_size, validation_freq, max_queue_size, workers, use_multiprocessing)\u001b[0m\n\u001b[1;32m   1098\u001b[0m                 _r=1):\n\u001b[1;32m   1099\u001b[0m               \u001b[0mcallbacks\u001b[0m\u001b[0;34m.\u001b[0m\u001b[0mon_train_batch_begin\u001b[0m\u001b[0;34m(\u001b[0m\u001b[0mstep\u001b[0m\u001b[0;34m)\u001b[0m\u001b[0;34m\u001b[0m\u001b[0;34m\u001b[0m\u001b[0m\n\u001b[0;32m-> 1100\u001b[0;31m               \u001b[0mtmp_logs\u001b[0m \u001b[0;34m=\u001b[0m \u001b[0mself\u001b[0m\u001b[0;34m.\u001b[0m\u001b[0mtrain_function\u001b[0m\u001b[0;34m(\u001b[0m\u001b[0miterator\u001b[0m\u001b[0;34m)\u001b[0m\u001b[0;34m\u001b[0m\u001b[0;34m\u001b[0m\u001b[0m\n\u001b[0m\u001b[1;32m   1101\u001b[0m               \u001b[0;32mif\u001b[0m \u001b[0mdata_handler\u001b[0m\u001b[0;34m.\u001b[0m\u001b[0mshould_sync\u001b[0m\u001b[0;34m:\u001b[0m\u001b[0;34m\u001b[0m\u001b[0;34m\u001b[0m\u001b[0m\n\u001b[1;32m   1102\u001b[0m                 \u001b[0mcontext\u001b[0m\u001b[0;34m.\u001b[0m\u001b[0masync_wait\u001b[0m\u001b[0;34m(\u001b[0m\u001b[0;34m)\u001b[0m\u001b[0;34m\u001b[0m\u001b[0;34m\u001b[0m\u001b[0m\n",
            "\u001b[0;32m/usr/local/lib/python3.7/dist-packages/tensorflow/python/eager/def_function.py\u001b[0m in \u001b[0;36m__call__\u001b[0;34m(self, *args, **kwds)\u001b[0m\n\u001b[1;32m    826\u001b[0m     \u001b[0mtracing_count\u001b[0m \u001b[0;34m=\u001b[0m \u001b[0mself\u001b[0m\u001b[0;34m.\u001b[0m\u001b[0mexperimental_get_tracing_count\u001b[0m\u001b[0;34m(\u001b[0m\u001b[0;34m)\u001b[0m\u001b[0;34m\u001b[0m\u001b[0;34m\u001b[0m\u001b[0m\n\u001b[1;32m    827\u001b[0m     \u001b[0;32mwith\u001b[0m \u001b[0mtrace\u001b[0m\u001b[0;34m.\u001b[0m\u001b[0mTrace\u001b[0m\u001b[0;34m(\u001b[0m\u001b[0mself\u001b[0m\u001b[0;34m.\u001b[0m\u001b[0m_name\u001b[0m\u001b[0;34m)\u001b[0m \u001b[0;32mas\u001b[0m \u001b[0mtm\u001b[0m\u001b[0;34m:\u001b[0m\u001b[0;34m\u001b[0m\u001b[0;34m\u001b[0m\u001b[0m\n\u001b[0;32m--> 828\u001b[0;31m       \u001b[0mresult\u001b[0m \u001b[0;34m=\u001b[0m \u001b[0mself\u001b[0m\u001b[0;34m.\u001b[0m\u001b[0m_call\u001b[0m\u001b[0;34m(\u001b[0m\u001b[0;34m*\u001b[0m\u001b[0margs\u001b[0m\u001b[0;34m,\u001b[0m \u001b[0;34m**\u001b[0m\u001b[0mkwds\u001b[0m\u001b[0;34m)\u001b[0m\u001b[0;34m\u001b[0m\u001b[0;34m\u001b[0m\u001b[0m\n\u001b[0m\u001b[1;32m    829\u001b[0m       \u001b[0mcompiler\u001b[0m \u001b[0;34m=\u001b[0m \u001b[0;34m\"xla\"\u001b[0m \u001b[0;32mif\u001b[0m \u001b[0mself\u001b[0m\u001b[0;34m.\u001b[0m\u001b[0m_experimental_compile\u001b[0m \u001b[0;32melse\u001b[0m \u001b[0;34m\"nonXla\"\u001b[0m\u001b[0;34m\u001b[0m\u001b[0;34m\u001b[0m\u001b[0m\n\u001b[1;32m    830\u001b[0m       \u001b[0mnew_tracing_count\u001b[0m \u001b[0;34m=\u001b[0m \u001b[0mself\u001b[0m\u001b[0;34m.\u001b[0m\u001b[0mexperimental_get_tracing_count\u001b[0m\u001b[0;34m(\u001b[0m\u001b[0;34m)\u001b[0m\u001b[0;34m\u001b[0m\u001b[0;34m\u001b[0m\u001b[0m\n",
            "\u001b[0;32m/usr/local/lib/python3.7/dist-packages/tensorflow/python/eager/def_function.py\u001b[0m in \u001b[0;36m_call\u001b[0;34m(self, *args, **kwds)\u001b[0m\n\u001b[1;32m    853\u001b[0m       \u001b[0;31m# In this case we have created variables on the first call, so we run the\u001b[0m\u001b[0;34m\u001b[0m\u001b[0;34m\u001b[0m\u001b[0;34m\u001b[0m\u001b[0m\n\u001b[1;32m    854\u001b[0m       \u001b[0;31m# defunned version which is guaranteed to never create variables.\u001b[0m\u001b[0;34m\u001b[0m\u001b[0;34m\u001b[0m\u001b[0;34m\u001b[0m\u001b[0m\n\u001b[0;32m--> 855\u001b[0;31m       \u001b[0;32mreturn\u001b[0m \u001b[0mself\u001b[0m\u001b[0;34m.\u001b[0m\u001b[0m_stateless_fn\u001b[0m\u001b[0;34m(\u001b[0m\u001b[0;34m*\u001b[0m\u001b[0margs\u001b[0m\u001b[0;34m,\u001b[0m \u001b[0;34m**\u001b[0m\u001b[0mkwds\u001b[0m\u001b[0;34m)\u001b[0m  \u001b[0;31m# pylint: disable=not-callable\u001b[0m\u001b[0;34m\u001b[0m\u001b[0;34m\u001b[0m\u001b[0m\n\u001b[0m\u001b[1;32m    856\u001b[0m     \u001b[0;32melif\u001b[0m \u001b[0mself\u001b[0m\u001b[0;34m.\u001b[0m\u001b[0m_stateful_fn\u001b[0m \u001b[0;32mis\u001b[0m \u001b[0;32mnot\u001b[0m \u001b[0;32mNone\u001b[0m\u001b[0;34m:\u001b[0m\u001b[0;34m\u001b[0m\u001b[0;34m\u001b[0m\u001b[0m\n\u001b[1;32m    857\u001b[0m       \u001b[0;31m# Release the lock early so that multiple threads can perform the call\u001b[0m\u001b[0;34m\u001b[0m\u001b[0;34m\u001b[0m\u001b[0;34m\u001b[0m\u001b[0m\n",
            "\u001b[0;32m/usr/local/lib/python3.7/dist-packages/tensorflow/python/eager/function.py\u001b[0m in \u001b[0;36m__call__\u001b[0;34m(self, *args, **kwargs)\u001b[0m\n\u001b[1;32m   2941\u001b[0m        filtered_flat_args) = self._maybe_define_function(args, kwargs)\n\u001b[1;32m   2942\u001b[0m     return graph_function._call_flat(\n\u001b[0;32m-> 2943\u001b[0;31m         filtered_flat_args, captured_inputs=graph_function.captured_inputs)  # pylint: disable=protected-access\n\u001b[0m\u001b[1;32m   2944\u001b[0m \u001b[0;34m\u001b[0m\u001b[0m\n\u001b[1;32m   2945\u001b[0m   \u001b[0;34m@\u001b[0m\u001b[0mproperty\u001b[0m\u001b[0;34m\u001b[0m\u001b[0;34m\u001b[0m\u001b[0m\n",
            "\u001b[0;32m/usr/local/lib/python3.7/dist-packages/tensorflow/python/eager/function.py\u001b[0m in \u001b[0;36m_call_flat\u001b[0;34m(self, args, captured_inputs, cancellation_manager)\u001b[0m\n\u001b[1;32m   1917\u001b[0m       \u001b[0;31m# No tape is watching; skip to running the function.\u001b[0m\u001b[0;34m\u001b[0m\u001b[0;34m\u001b[0m\u001b[0;34m\u001b[0m\u001b[0m\n\u001b[1;32m   1918\u001b[0m       return self._build_call_outputs(self._inference_function.call(\n\u001b[0;32m-> 1919\u001b[0;31m           ctx, args, cancellation_manager=cancellation_manager))\n\u001b[0m\u001b[1;32m   1920\u001b[0m     forward_backward = self._select_forward_and_backward_functions(\n\u001b[1;32m   1921\u001b[0m         \u001b[0margs\u001b[0m\u001b[0;34m,\u001b[0m\u001b[0;34m\u001b[0m\u001b[0;34m\u001b[0m\u001b[0m\n",
            "\u001b[0;32m/usr/local/lib/python3.7/dist-packages/tensorflow/python/eager/function.py\u001b[0m in \u001b[0;36mcall\u001b[0;34m(self, ctx, args, cancellation_manager)\u001b[0m\n\u001b[1;32m    558\u001b[0m               \u001b[0minputs\u001b[0m\u001b[0;34m=\u001b[0m\u001b[0margs\u001b[0m\u001b[0;34m,\u001b[0m\u001b[0;34m\u001b[0m\u001b[0;34m\u001b[0m\u001b[0m\n\u001b[1;32m    559\u001b[0m               \u001b[0mattrs\u001b[0m\u001b[0;34m=\u001b[0m\u001b[0mattrs\u001b[0m\u001b[0;34m,\u001b[0m\u001b[0;34m\u001b[0m\u001b[0;34m\u001b[0m\u001b[0m\n\u001b[0;32m--> 560\u001b[0;31m               ctx=ctx)\n\u001b[0m\u001b[1;32m    561\u001b[0m         \u001b[0;32melse\u001b[0m\u001b[0;34m:\u001b[0m\u001b[0;34m\u001b[0m\u001b[0;34m\u001b[0m\u001b[0m\n\u001b[1;32m    562\u001b[0m           outputs = execute.execute_with_cancellation(\n",
            "\u001b[0;32m/usr/local/lib/python3.7/dist-packages/tensorflow/python/eager/execute.py\u001b[0m in \u001b[0;36mquick_execute\u001b[0;34m(op_name, num_outputs, inputs, attrs, ctx, name)\u001b[0m\n\u001b[1;32m     58\u001b[0m     \u001b[0mctx\u001b[0m\u001b[0;34m.\u001b[0m\u001b[0mensure_initialized\u001b[0m\u001b[0;34m(\u001b[0m\u001b[0;34m)\u001b[0m\u001b[0;34m\u001b[0m\u001b[0;34m\u001b[0m\u001b[0m\n\u001b[1;32m     59\u001b[0m     tensors = pywrap_tfe.TFE_Py_Execute(ctx._handle, device_name, op_name,\n\u001b[0;32m---> 60\u001b[0;31m                                         inputs, attrs, num_outputs)\n\u001b[0m\u001b[1;32m     61\u001b[0m   \u001b[0;32mexcept\u001b[0m \u001b[0mcore\u001b[0m\u001b[0;34m.\u001b[0m\u001b[0m_NotOkStatusException\u001b[0m \u001b[0;32mas\u001b[0m \u001b[0me\u001b[0m\u001b[0;34m:\u001b[0m\u001b[0;34m\u001b[0m\u001b[0;34m\u001b[0m\u001b[0m\n\u001b[1;32m     62\u001b[0m     \u001b[0;32mif\u001b[0m \u001b[0mname\u001b[0m \u001b[0;32mis\u001b[0m \u001b[0;32mnot\u001b[0m \u001b[0;32mNone\u001b[0m\u001b[0;34m:\u001b[0m\u001b[0;34m\u001b[0m\u001b[0;34m\u001b[0m\u001b[0m\n",
            "\u001b[0;31mKeyboardInterrupt\u001b[0m: "
          ]
        }
      ]
    },
    {
      "cell_type": "code",
      "metadata": {
        "colab": {
          "base_uri": "https://localhost:8080/"
        },
        "id": "5Au0YFYtXnfm",
        "outputId": "b82acd44-9b01-4463-a220-b1bb2b776a19"
      },
      "source": [
        "movie_df = pd.read_csv(movielens_dir / \"movies.dat\", sep='::', engine='python', names=['movieId', 'title', 'genres'])\n",
        "\n",
        "# Let us get a user and see the top recommendations.\n",
        "user_id = df.userId.sample(1).iloc[0]\n",
        "movies_watched_by_user = df[df.userId == user_id]\n",
        "movies_not_watched = movie_df[\n",
        "    ~movie_df[\"movieId\"].isin(movies_watched_by_user.movieId.values)\n",
        "][\"movieId\"]\n",
        "movies_not_watched = list(\n",
        "    set(movies_not_watched).intersection(set(movie2movie_encoded.keys()))\n",
        ")\n",
        "movies_not_watched = [[movie2movie_encoded.get(x)] for x in movies_not_watched]\n",
        "user_encoder = user2user_encoded.get(user_id)\n",
        "user_movie_array = np.hstack(\n",
        "    ([[user_encoder]] * len(movies_not_watched), movies_not_watched)\n",
        ")\n",
        "ratings = model.predict(user_movie_array).flatten()\n",
        "top_ratings_indices = ratings.argsort()[-10:][::-1]\n",
        "recommended_movie_ids = [\n",
        "    movie_encoded2movie.get(movies_not_watched[x][0]) for x in top_ratings_indices\n",
        "]\n",
        "\n",
        "print(\"Showing recommendations for user: {}\".format(user_id))\n",
        "print(\"====\" * 9)\n",
        "print(\"Movies with high ratings from user\")\n",
        "print(\"----\" * 8)\n",
        "top_movies_user = (\n",
        "    movies_watched_by_user.sort_values(by=\"rating\", ascending=False)\n",
        "    .head(5)\n",
        "    .movieId.values\n",
        ")\n",
        "movie_df_rows = movie_df[movie_df[\"movieId\"].isin(top_movies_user)]\n",
        "for row in movie_df_rows.itertuples():\n",
        "    print(row.title, \":\", row.genres)\n",
        "\n",
        "print(\"----\" * 8)\n",
        "print(\"Top 10 movie recommendations\")\n",
        "print(\"----\" * 8)\n",
        "recommended_movies = movie_df[movie_df[\"movieId\"].isin(recommended_movie_ids)]\n",
        "for row in recommended_movies.itertuples():\n",
        "    print(row.title, \":\", row.genres)\n"
      ],
      "execution_count": null,
      "outputs": [
        {
          "output_type": "stream",
          "text": [
            "Showing recommendations for user: 2237\n",
            "====================================\n",
            "Movies with high ratings from user\n",
            "--------------------------------\n",
            "Colonel Chabert, Le (1994) : Drama|Romance|War\n",
            "Age of Innocence, The (1993) : Drama\n",
            "When Harry Met Sally... (1989) : Comedy|Romance\n",
            "Simple Plan, A (1998) : Crime|Thriller\n",
            "Bull Durham (1988) : Comedy\n",
            "--------------------------------\n",
            "Top 10 movie recommendations\n",
            "--------------------------------\n",
            "Taxi Driver (1976) : Drama|Thriller\n",
            "To Live (Huozhe) (1994) : Drama\n",
            "Celluloid Closet, The (1995) : Documentary\n",
            "Silence of the Lambs, The (1991) : Drama|Thriller\n",
            "Wild Bunch, The (1969) : Western\n",
            "Fargo (1996) : Crime|Drama|Thriller\n",
            "Wrong Trousers, The (1993) : Animation|Comedy\n",
            "Paths of Glory (1957) : Drama|War\n",
            "Life Is Beautiful (La Vita � bella) (1997) : Comedy|Drama\n",
            "American History X (1998) : Drama\n"
          ],
          "name": "stdout"
        }
      ]
    },
    {
      "cell_type": "code",
      "metadata": {
        "colab": {
          "base_uri": "https://localhost:8080/",
          "height": 616
        },
        "id": "9bSskYp96i1e",
        "outputId": "994fb003-f849-4576-f297-80f7e59e04f9"
      },
      "source": [
        "from matplotlib import pyplot as plt\n",
        "from matplotlib.ticker import MaxNLocator\n",
        "\n",
        "plt.rc('font', size=15)  \n",
        "\n",
        "test_names = ['NDCG', 'RMSE', 'Equal Opportunity',  'Demographic Parity']\n",
        "width = 0.25\n",
        "fig, ax1 = plt.subplots(figsize=(16, 10))  # Create the figure\n",
        "\n",
        "\n",
        "pos = np.arange(len(test_names))\n",
        "\n",
        "# rects = ax1.barh(pos, [0.8899, 0.0886, 0.1315],\n",
        "#                   width,\n",
        "#                   color='#693c72',\n",
        "#                   align='center',\n",
        "#                   label='None',                 \n",
        "#                   tick_label=test_names)\n",
        "\n",
        "rects = ax1.barh(pos + width, [0.9004765132937749, 0.8924, 0.1284, 0.0886],\n",
        "                  width,\n",
        "                  color='#693c72',\n",
        "                  align='center',\n",
        "                  label='None',                 \n",
        "                  tick_label=test_names)\n",
        "\n",
        "rects = ax1.barh(pos, [0.8984680851902723, 0.9, 0.1213, 0.0640],\n",
        "                  width,\n",
        "                  color='#c15050',\n",
        "                  align='center',\n",
        "                  label='Demographic Parity Reg',                 \n",
        "                  tick_label=test_names)\n",
        "\n",
        "rects = ax1.barh(pos - width, [0.8993038320883711, 0.9008, 0.1121, 0.1182],\n",
        "                  width,\n",
        "                  color='#d97642',\n",
        "                  align='center',\n",
        "                  label='Equal Opportunity Reg',                 \n",
        "                  tick_label=test_names)\n",
        "\n",
        "\n",
        "ax1.set_title('Results')\n",
        "ax1.xaxis.set_major_locator(MaxNLocator(20))\n",
        "ax1.xaxis.grid(True, which='major' ,\n",
        "                   color='grey', alpha=.15)\n",
        "ax1.set_yticks(pos)\n",
        "ax1.legend()\n",
        "\n",
        "fig.show()"
      ],
      "execution_count": 317,
      "outputs": [
        {
          "output_type": "display_data",
          "data": {
            "image/png": "[encoded data removed]",
            "text/plain": [
              "<Figure size 1152x720 with 1 Axes>"
            ]
          },
          "metadata": {
            "tags": [],
            "needs_background": "light"
          }
        }
      ]
    },
    {
      "cell_type": "code",
      "metadata": {
        "colab": {
          "base_uri": "https://localhost:8080/",
          "height": 999
        },
        "id": "8Z8FxgTIA3hQ",
        "outputId": "e10932a3-7bb6-4207-c7e0-4fd544ad4058"
      },
      "source": [
        "def autolabel(rects, ax):\n",
        "  \"\"\"Attach a text label above each bar in *rects*, displaying its height.\"\"\"\n",
        "  for rect in rects:\n",
        "      height = rect.get_height()\n",
        "      ax.annotate('{}'.format(height),\n",
        "                  xy=(rect.get_x() + rect.get_width() / 2, height),\n",
        "                  xytext=(0, 3),  # 3 points vertical offset\n",
        "                  textcoords=\"offset points\",\n",
        "                  ha='center', va='bottom')\n",
        "\n",
        "def bar_plot(labels, women_data, men_data, title, ylabel, lower, upper):    \n",
        "  plt.rc('font', size=15) \n",
        "  x = np.arange(len(labels))  # the label locations\n",
        "  width = 0.35  # the width of the bars\n",
        "\n",
        "  fig, ax = plt.subplots()\n",
        "  rects1 = ax.bar(x - width/2, men_data, width, label='Men', color='#35477d')\n",
        "  rects2 = ax.bar(x + width/2, women_data, width, label='Women', color='#f67280')\n",
        "  \n",
        "\n",
        "  # Add some text for labels, title and custom x-axis tick labels, etc.\n",
        "  ax.set_ylabel(ylabel)\n",
        "  ax.set_ybound(lower=lower, upper=upper)\n",
        "  ax.set_title(title)\n",
        "  ax.set_xticks(x)\n",
        "  ax.set_xticklabels(labels)\n",
        "  ax.legend()\n",
        "\n",
        "\n",
        "  autolabel(rects1, ax)\n",
        "  autolabel(rects2, ax)\n",
        "\n",
        "  \n",
        "  fig.set_figwidth(15)\n",
        "  fig.set_figheight(8)\n",
        "\n",
        "  plt.show()\n",
        "\n",
        "bar_plot(['None', 'DP Reg', 'EO Reg'], [3.7014, 3.7178, 3.5968], [3.6925, 3.7201, 3.7017], 'Demographic Parity',  'Mean value', 3, 4)\n",
        "bar_plot(['None', 'DP Reg', 'EO Reg'], [1.3729, 1.2323, 1.3299], [1.3783, 1.2967, 1.3381], 'Equal Opportunity',  'Mean value', 1, 2)"
      ],
      "execution_count": 320,
      "outputs": [
        {
          "output_type": "display_data",
          "data": {
            "image/png": "[encoded data removed]",
            "text/plain": [
              "<Figure size 1080x576 with 1 Axes>"
            ]
          },
          "metadata": {
            "tags": [],
            "needs_background": "light"
          }
        },
        {
          "output_type": "display_data",
          "data": {
            "image/png": "[encoded data removed]",
            "text/plain": [
              "<Figure size 1080x576 with 1 Axes>"
            ]
          },
          "metadata": {
            "tags": [],
            "needs_background": "light"
          }
        }
      ]
    }
  ]
}